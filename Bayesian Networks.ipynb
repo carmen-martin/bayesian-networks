{
 "cells": [
  {
   "cell_type": "code",
   "execution_count": 78,
   "id": "7f1a40a4",
   "metadata": {},
   "outputs": [],
   "source": [
    "library(\"dplyr\")"
   ]
  },
  {
   "cell_type": "markdown",
   "id": "4739ff84",
   "metadata": {},
   "source": [
    "## Inputs: \n",
    "\n",
    "1. Set of nodes *Z*\n",
    "2. Ordering of the nodes\n",
    "3. Upper bound on the number of parents (for each node) *u*\n",
    "4. Database *D* of m cases"
   ]
  },
  {
   "cell_type": "code",
   "execution_count": 372,
   "id": "27ce2113",
   "metadata": {},
   "outputs": [],
   "source": [
    "N_tensor <- function(D, i, V.i, pi.i){\n",
    "    result <- D %>% count(D[,pi.i], name='j_counts')\n",
    "    result <- result$j_counts\n",
    "        for (k in V.i){\n",
    "            mask <- D[, i]==k\n",
    "            k_count <- D[mask,] %>% count(D[mask,pi.i])\n",
    "            result<-data.frame(result, k_count[,length(k_count)])\n",
    "            colnames(result)[length(colnames(result))]<- k\n",
    "        }\n",
    "        result[is.na(result)] <- 0\n",
    "    names(result)[1] <- 'j_counts'\n",
    "    names(result)[2:(length(V.i)+1)] <- V.i\n",
    "    return(result)\n",
    "}\n",
    "\n",
    "g <- function(V.i, r.i, N.tensor){\n",
    "    N.ij <- N.tensor$j_counts\n",
    "    q.i <- length(N.ij) # number of unique combinations of the parents realizations\n",
    "    result <- 1\n",
    "    for (j in 1:q.i) {\n",
    "        a <- 1\n",
    "        for (k in V.i){a <- a*factorial(N.tensor[j,as.character(k)])}\n",
    "        result <- result*a*factorial(r.i-1)/factorial(N.ij[j]+r.i-1)\n",
    "    }\n",
    "    #print(paste('func',result))\n",
    "    return(result)\n",
    "}\n",
    "\n",
    "\n",
    "k2 <- function(Z, u, D){\n",
    "    V <- unname(sapply(D, unique)) #it's a matrix\n",
    "    r <- unname(sapply(D, n_distinct)) #it's a vector\n",
    "    parents <- list()\n",
    "    for (i in 1:length(Z)){\n",
    "        cat('\\n iteration', i)\n",
    "        pi.i <- NULL \n",
    "        Nijk <- N_tensor(D, Z[i], V[,i], pi.i)\n",
    "        P_old <- g(V[,i],r[i], Nijk)\n",
    "        proceed <- TRUE\n",
    "        while (proceed & (length(pi.i)<u & i>1)){\n",
    "            pred.i <- setdiff(Z[1:i-1], pi.i)\n",
    "            #print(paste('pi', pi.i))\n",
    "            #print(paste('pred', pred.i))\n",
    "            P <- NULL\n",
    "            for (node in pred.i){\n",
    "                new_set <- union(pi.i, node)\n",
    "                Nijk <- N_tensor(D, Z[i], V[,i], new_set)\n",
    "                P<- c(P, g(V[,i], r[i], Nijk))\n",
    "            }\n",
    "            cat('\\n POLD IS ', P_old)\n",
    "            cat('\\n p is ', P, 'n')\n",
    "            if (max(P) > P_old){\n",
    "                print(\"ok\")\n",
    "                max.indx <- which.max(P)\n",
    "                P_old <- P[max.indx]\n",
    "                pi.i <- union(pi.i, pred.i[max.indx])\n",
    "            }\n",
    "            else {proceed = FALSE}\n",
    "        }\n",
    "        append(parents, list(pi.i))\n",
    "    } \n",
    "    return(parents)\n",
    "}\n"
   ]
  },
  {
   "cell_type": "code",
   "execution_count": 373,
   "id": "e93071da",
   "metadata": {},
   "outputs": [
    {
     "name": "stdout",
     "output_type": "stream",
     "text": [
      "   x1 x2 x3\n",
      "1   1  0  0\n",
      "2   1  1  1\n",
      "3   0  0  1\n",
      "4   1  1  1\n",
      "5   0  0  0\n",
      "6   0  1  1\n",
      "7   1  1  1\n",
      "8   0  0  0\n",
      "9   1  1  1\n",
      "10  0  0  0\n"
     ]
    }
   ],
   "source": [
    "x1 <- c(1,1,0,1,0,0,1,0,1,0)\n",
    "x2 <- c(0,1,0,1,0,1,1,0,1,0)\n",
    "x3<- c(0,1,1,1,0,1,1,0,1,0)\n",
    "\n",
    "D <- data.frame(x1, x2, x3)\n",
    "\n",
    "print(D)\n"
   ]
  },
  {
   "cell_type": "code",
   "execution_count": 374,
   "id": "9d740cc6",
   "metadata": {},
   "outputs": [
    {
     "name": "stdout",
     "output_type": "stream",
     "text": [
      "\n",
      " iteration 1\n",
      " iteration 2\n",
      " POLD IS  0.0003607504\n",
      " p is  0.001111111 n[1] \"ok\"\n",
      "\n",
      " POLD IS  0.001111111\n",
      " p is  n"
     ]
    },
    {
     "name": "stderr",
     "output_type": "stream",
     "text": [
      "Warning message in max(P):\n",
      "\"ningun argumento finito para max; retornando -Inf\""
     ]
    },
    {
     "name": "stdout",
     "output_type": "stream",
     "text": [
      "\n",
      " iteration 3\n",
      " POLD IS  0.0004329004\n",
      " p is  0.0005555556 0.1333333 n[1] \"ok\"\n"
     ]
    },
    {
     "ename": "ERROR",
     "evalue": "Error in data.frame(result, k_count[, length(k_count)]): arguments imply differing number of rows: 4, 3\n",
     "output_type": "error",
     "traceback": [
      "Error in data.frame(result, k_count[, length(k_count)]): arguments imply differing number of rows: 4, 3\nTraceback:\n",
      "1. k2(c(1, 2, 3), u = 3, D)",
      "2. N_tensor(D, Z[i], V[, i], new_set)   # at line 47 of file <text>",
      "3. data.frame(result, k_count[, length(k_count)])   # at line 7 of file <text>",
      "4. stop(gettextf(\"arguments imply differing number of rows: %s\", \n .     paste(unique(nrows), collapse = \", \")), domain = NA)"
     ]
    }
   ],
   "source": [
    "papitos <- k2(c(1,2,3), u=3, D)\n",
    "papitos"
   ]
  },
  {
   "cell_type": "code",
   "execution_count": null,
   "id": "88c495df",
   "metadata": {},
   "outputs": [],
   "source": []
  },
  {
   "cell_type": "code",
   "execution_count": 210,
   "id": "2084ab39",
   "metadata": {
    "scrolled": true
   },
   "outputs": [
    {
     "data": {
      "text/html": [
       "<table>\n",
       "<thead><tr><th scope=col>x2</th><th scope=col>x3</th><th scope=col>j_count</th></tr></thead>\n",
       "<tbody>\n",
       "\t<tr><td>0</td><td>0</td><td>4</td></tr>\n",
       "\t<tr><td>0</td><td>1</td><td>1</td></tr>\n",
       "\t<tr><td>1</td><td>1</td><td>5</td></tr>\n",
       "</tbody>\n",
       "</table>\n"
      ],
      "text/latex": [
       "\\begin{tabular}{r|lll}\n",
       " x2 & x3 & j\\_count\\\\\n",
       "\\hline\n",
       "\t 0 & 0 & 4\\\\\n",
       "\t 0 & 1 & 1\\\\\n",
       "\t 1 & 1 & 5\\\\\n",
       "\\end{tabular}\n"
      ],
      "text/markdown": [
       "\n",
       "| x2 | x3 | j_count |\n",
       "|---|---|---|\n",
       "| 0 | 0 | 4 |\n",
       "| 0 | 1 | 1 |\n",
       "| 1 | 1 | 5 |\n",
       "\n"
      ],
      "text/plain": [
       "  x2 x3 j_count\n",
       "1 0  0  4      \n",
       "2 0  1  1      \n",
       "3 1  1  5      "
      ]
     },
     "metadata": {},
     "output_type": "display_data"
    },
    {
     "data": {
      "text/html": [
       "<table>\n",
       "<thead><tr><th scope=col>D[, 2]</th><th scope=col>D[, 3]</th><th scope=col>j_count</th></tr></thead>\n",
       "<tbody>\n",
       "\t<tr><td>0</td><td>0</td><td>4</td></tr>\n",
       "\t<tr><td>0</td><td>1</td><td>1</td></tr>\n",
       "\t<tr><td>1</td><td>1</td><td>5</td></tr>\n",
       "</tbody>\n",
       "</table>\n"
      ],
      "text/latex": [
       "\\begin{tabular}{r|lll}\n",
       " D{[}, 2{]} & D{[}, 3{]} & j\\_count\\\\\n",
       "\\hline\n",
       "\t 0 & 0 & 4\\\\\n",
       "\t 0 & 1 & 1\\\\\n",
       "\t 1 & 1 & 5\\\\\n",
       "\\end{tabular}\n"
      ],
      "text/markdown": [
       "\n",
       "| D[, 2] | D[, 3] | j_count |\n",
       "|---|---|---|\n",
       "| 0 | 0 | 4 |\n",
       "| 0 | 1 | 1 |\n",
       "| 1 | 1 | 5 |\n",
       "\n"
      ],
      "text/plain": [
       "  D[, 2] D[, 3] j_count\n",
       "1 0      0      4      \n",
       "2 0      1      1      \n",
       "3 1      1      5      "
      ]
     },
     "metadata": {},
     "output_type": "display_data"
    }
   ],
   "source": [
    "pi.i <- c(2,3)\n",
    "#D[,pi.i] %>% group_by_all() %>% count()\n",
    "D %>% count(D[,pi.i], name='j_count')\n",
    "D %>% count(D[,2], D[,3],name='j_count')"
   ]
  },
  {
   "cell_type": "code",
   "execution_count": 299,
   "id": "d5e88223",
   "metadata": {},
   "outputs": [],
   "source": [
    "?merge"
   ]
  },
  {
   "cell_type": "code",
   "execution_count": 295,
   "id": "9dcae091",
   "metadata": {},
   "outputs": [
    {
     "data": {
      "text/html": [
       "<table>\n",
       "<thead><tr><th scope=col>x1</th><th scope=col>x2</th><th scope=col>n</th></tr></thead>\n",
       "<tbody>\n",
       "\t<tr><td>0</td><td>0</td><td>4</td></tr>\n",
       "\t<tr><td>1</td><td>0</td><td>1</td></tr>\n",
       "</tbody>\n",
       "</table>\n"
      ],
      "text/latex": [
       "\\begin{tabular}{r|lll}\n",
       " x1 & x2 & n\\\\\n",
       "\\hline\n",
       "\t 0 & 0 & 4\\\\\n",
       "\t 1 & 0 & 1\\\\\n",
       "\\end{tabular}\n"
      ],
      "text/markdown": [
       "\n",
       "| x1 | x2 | n |\n",
       "|---|---|---|\n",
       "| 0 | 0 | 4 |\n",
       "| 1 | 0 | 1 |\n",
       "\n"
      ],
      "text/plain": [
       "  x1 x2 n\n",
       "1 0  0  4\n",
       "2 1  0  1"
      ]
     },
     "metadata": {},
     "output_type": "display_data"
    }
   ],
   "source": [
    "#D[D[, 1]==1,pi.i] %>% group_by_all() %>% summarise(name=n())\n",
    "pi.i<-c(1,2)\n",
    "D[D[, 2]==0, ] %>% count(D[D[, 2]==0,pi.i])\n",
    "#merge(D1, k_count, all.x=TRUE)\n",
    "#result[result[, 3]==0, ] %>% count(x1, x2)"
   ]
  },
  {
   "cell_type": "code",
   "execution_count": 121,
   "id": "8e508787",
   "metadata": {},
   "outputs": [
    {
     "data": {
      "text/html": [
       "'x1'"
      ],
      "text/latex": [
       "'x1'"
      ],
      "text/markdown": [
       "'x1'"
      ],
      "text/plain": [
       "[1] \"x1\""
      ]
     },
     "metadata": {},
     "output_type": "display_data"
    }
   ],
   "source": [
    "names(D)[1]"
   ]
  },
  {
   "cell_type": "code",
   "execution_count": 76,
   "id": "9f5e107f",
   "metadata": {},
   "outputs": [
    {
     "data": {
      "text/html": [
       "<ol class=list-inline>\n",
       "\t<li>0</li>\n",
       "\t<li>1</li>\n",
       "</ol>\n"
      ],
      "text/latex": [
       "\\begin{enumerate*}\n",
       "\\item 0\n",
       "\\item 1\n",
       "\\end{enumerate*}\n"
      ],
      "text/markdown": [
       "1. 0\n",
       "2. 1\n",
       "\n",
       "\n"
      ],
      "text/plain": [
       "[1] 0 1"
      ]
     },
     "metadata": {},
     "output_type": "display_data"
    }
   ],
   "source": [
    "0:1"
   ]
  },
  {
   "cell_type": "code",
   "execution_count": 77,
   "id": "cec6b5c8",
   "metadata": {},
   "outputs": [
    {
     "data": {
      "text/html": [
       "<ol class=list-inline>\n",
       "\t<li>2</li>\n",
       "\t<li>3</li>\n",
       "\t<li>4</li>\n",
       "\t<li>1</li>\n",
       "</ol>\n"
      ],
      "text/latex": [
       "\\begin{enumerate*}\n",
       "\\item 2\n",
       "\\item 3\n",
       "\\item 4\n",
       "\\item 1\n",
       "\\end{enumerate*}\n"
      ],
      "text/markdown": [
       "1. 2\n",
       "2. 3\n",
       "3. 4\n",
       "4. 1\n",
       "\n",
       "\n"
      ],
      "text/plain": [
       "[1] 2 3 4 1"
      ]
     },
     "metadata": {},
     "output_type": "display_data"
    }
   ],
   "source": [
    "x <- c(2,3,4,2,1)\n",
    "unique(x)"
   ]
  },
  {
   "cell_type": "code",
   "execution_count": null,
   "id": "e59450e6",
   "metadata": {},
   "outputs": [],
   "source": []
  }
 ],
 "metadata": {
  "kernelspec": {
   "display_name": "R",
   "language": "R",
   "name": "ir"
  },
  "language_info": {
   "codemirror_mode": "r",
   "file_extension": ".r",
   "mimetype": "text/x-r-source",
   "name": "R",
   "pygments_lexer": "r",
   "version": "3.6.1"
  }
 },
 "nbformat": 4,
 "nbformat_minor": 5
}
