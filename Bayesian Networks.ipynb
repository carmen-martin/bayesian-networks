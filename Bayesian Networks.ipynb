{
 "cells": [
  {
   "cell_type": "code",
   "execution_count": 1,
   "id": "7f1a40a4",
   "metadata": {},
   "outputs": [
    {
     "name": "stderr",
     "output_type": "stream",
     "text": [
      "Warning message:\n",
      "\"package 'dplyr' was built under R version 3.6.3\"\n",
      "Attaching package: 'dplyr'\n",
      "\n",
      "The following objects are masked from 'package:stats':\n",
      "\n",
      "    filter, lag\n",
      "\n",
      "The following objects are masked from 'package:base':\n",
      "\n",
      "    intersect, setdiff, setequal, union\n",
      "\n"
     ]
    }
   ],
   "source": [
    "library(\"dplyr\")"
   ]
  },
  {
   "cell_type": "markdown",
   "id": "4739ff84",
   "metadata": {},
   "source": [
    "## Inputs: \n",
    "\n",
    "1. Set of nodes *Z*\n",
    "2. Ordering of the nodes\n",
    "3. Upper bound on the number of parents (for each node) *u*\n",
    "4. Database *D* of m cases"
   ]
  },
  {
   "cell_type": "code",
   "execution_count": 18,
   "id": "27ce2113",
   "metadata": {},
   "outputs": [],
   "source": [
    "N_tensor <- function(D, i, V.i, pi.i){\n",
    "    result <- D %>% count(D[,pi.i], name='j_counts')\n",
    "    if (length(pi.i) == 1){colnames(result)[1] <- 'j'}\n",
    "        for (k in V.i){\n",
    "            k_count <- D[D[, i]==k,] %>% count(D[D[, i]==k,pi.i])\n",
    "            if (length(pi.i) == 1){colnames(k_count)[1] <- 'j'}\n",
    "            colnames(k_count)[length(colnames(k_count))]<- k\n",
    "            result <- merge(result, k_count, all.x=TRUE) \n",
    "        }\n",
    "        result[is.na(result)] <- 0\n",
    "    #names(result)[1] <- 'j_counts'\n",
    "    #names(result)[2:(length(V.i)+1)] <- V.i\n",
    "    cat('\\n')\n",
    "    print(result)\n",
    "    return(result)\n",
    "}\n",
    "\n",
    "g <- function(V.i, r.i, N.tensor){\n",
    "    N.ij <- N.tensor$j_counts\n",
    "    q.i <- length(N.ij) # number of unique combinations of the parents realizations\n",
    "    result <- 1\n",
    "    for (j in 1:q.i) {\n",
    "        a <- 1\n",
    "        for (k in V.i){a <- a*factorial(N.tensor[j,as.character(k)])}\n",
    "        result <- result*a*factorial(r.i-1)/factorial(N.ij[j]+r.i-1)\n",
    "    }\n",
    "    return(result)\n",
    "}\n",
    "\n",
    "\n",
    "k2 <- function(Z, u, D){\n",
    "    V <- unname(sapply(D, unique)) #it's a matrix\n",
    "    r <- unname(sapply(D, n_distinct)) #it's a vector\n",
    "    parents <- list()\n",
    "    for (i in 1:length(Z)){\n",
    "        cat('\\n iteration', i)\n",
    "        pi.i <- NULL \n",
    "        Nijk <- N_tensor(D, Z[i], V[,i], pi.i)\n",
    "        P_old <- g(V[,i],r[i], Nijk)\n",
    "        proceed <- TRUE\n",
    "        changed = FALSE\n",
    "        while (proceed & (length(pi.i)<u & i>1)){\n",
    "            pred.i <- setdiff(Z[1:i-1], pi.i)\n",
    "            P <- 0\n",
    "            for (node in pred.i){\n",
    "                new_set <- union(pi.i, node)\n",
    "                Nijk <- N_tensor(D, Z[i], V[,i], new_set)\n",
    "                P <- g(V[,i], r[i], Nijk)\n",
    "                if (P > P_old){\n",
    "                    P_old <- P\n",
    "                    temp.pi <- new_set\n",
    "                    changed = TRUE\n",
    "                }\n",
    "            }\n",
    "            if (changed != TRUE){\n",
    "                proceed = FALSE\n",
    "            } else{\n",
    "                pi.i <- temp.pi\n",
    "                changed = FALSE\n",
    "            }\n",
    "        }\n",
    "        cat('\\n P:', P_old)\n",
    "        parents <- append(parents, list(pi.i))\n",
    "    } \n",
    "    return(parents)\n",
    "}\n"
   ]
  },
  {
   "cell_type": "code",
   "execution_count": 19,
   "id": "e93071da",
   "metadata": {},
   "outputs": [
    {
     "name": "stdout",
     "output_type": "stream",
     "text": [
      "   x1 x2 x3\n",
      "1   1  0  0\n",
      "2   1  1  1\n",
      "3   0  0  1\n",
      "4   1  1  1\n",
      "5   0  0  0\n",
      "6   0  1  1\n",
      "7   1  1  1\n",
      "8   0  0  0\n",
      "9   1  1  1\n",
      "10  0  0  0\n"
     ]
    }
   ],
   "source": [
    "x1 <- c(1,1,0,1,0,0,1,0,1,0)\n",
    "x2 <- c(0,1,0,1,0,1,1,0,1,0)\n",
    "x3<- c(0,1,1,1,0,1,1,0,1,0)\n",
    "\n",
    "D <- data.frame(x1, x2, x3)\n",
    "\n",
    "print(D)"
   ]
  },
  {
   "cell_type": "code",
   "execution_count": 20,
   "id": "9d740cc6",
   "metadata": {},
   "outputs": [
    {
     "name": "stdout",
     "output_type": "stream",
     "text": [
      "\n",
      " iteration 1\n",
      "  j_counts 1 0\n",
      "1       10 5 5\n",
      "\n",
      " P: 0.0003607504\n",
      " iteration 2\n",
      "  j_counts 0 1\n",
      "1       10 5 5\n",
      "\n",
      "  help j_counts 0 1\n",
      "1    0        5 4 1\n",
      "2    1        5 1 4\n",
      "\n",
      " P: 0.001111111\n",
      " iteration 3\n",
      "  j_counts 0 1\n",
      "1       10 4 6\n",
      "\n",
      "  help j_counts 0 1\n",
      "1    0        5 3 2\n",
      "2    1        5 1 4\n",
      "\n",
      "  help j_counts 0 1\n",
      "1    0        5 4 1\n",
      "2    1        5 0 5\n",
      "\n",
      "  x2 x1 j_counts 0 1\n",
      "1  0  0        4 3 1\n",
      "2  0  1        1 1 0\n",
      "3  1  0        1 0 1\n",
      "4  1  1        4 0 4\n",
      "\n",
      " P: 0.005555556"
     ]
    }
   ],
   "source": [
    "papitos <- k2(c(1,2,3), u=3, D)"
   ]
  },
  {
   "cell_type": "code",
   "execution_count": 21,
   "id": "b7613367",
   "metadata": {},
   "outputs": [
    {
     "data": {
      "text/html": [
       "<ol>\n",
       "\t<li>NULL</li>\n",
       "\t<li>1</li>\n",
       "\t<li>2</li>\n",
       "</ol>\n"
      ],
      "text/latex": [
       "\\begin{enumerate}\n",
       "\\item NULL\n",
       "\\item 1\n",
       "\\item 2\n",
       "\\end{enumerate}\n"
      ],
      "text/markdown": [
       "1. NULL\n",
       "2. 1\n",
       "3. 2\n",
       "\n",
       "\n"
      ],
      "text/plain": [
       "[[1]]\n",
       "NULL\n",
       "\n",
       "[[2]]\n",
       "[1] 1\n",
       "\n",
       "[[3]]\n",
       "[1] 2\n"
      ]
     },
     "metadata": {},
     "output_type": "display_data"
    }
   ],
   "source": [
    "papitos"
   ]
  },
  {
   "cell_type": "code",
   "execution_count": 425,
   "id": "2084ab39",
   "metadata": {
    "scrolled": true
   },
   "outputs": [],
   "source": [
    "#pi.i <- c(2,3)\n",
    "#D[,pi.i] %>% group_by_all() %>% count()\n",
    "a <- D %>% count(D[,pi.i], name='j_count')\n",
    "#a <- D %>% count(D[,1], D[,2],name='j_count')"
   ]
  },
  {
   "cell_type": "code",
   "execution_count": 429,
   "id": "9de92ad1",
   "metadata": {},
   "outputs": [
    {
     "data": {
      "text/html": [
       "<table>\n",
       "<thead><tr><th scope=col>x1</th><th scope=col>x2</th><th scope=col>n</th></tr></thead>\n",
       "<tbody>\n",
       "\t<tr><td>0</td><td>0</td><td>3</td></tr>\n",
       "\t<tr><td>1</td><td>0</td><td>1</td></tr>\n",
       "</tbody>\n",
       "</table>\n"
      ],
      "text/latex": [
       "\\begin{tabular}{r|lll}\n",
       " x1 & x2 & n\\\\\n",
       "\\hline\n",
       "\t 0 & 0 & 3\\\\\n",
       "\t 1 & 0 & 1\\\\\n",
       "\\end{tabular}\n"
      ],
      "text/markdown": [
       "\n",
       "| x1 | x2 | n |\n",
       "|---|---|---|\n",
       "| 0 | 0 | 3 |\n",
       "| 1 | 0 | 1 |\n",
       "\n"
      ],
      "text/plain": [
       "  x1 x2 n\n",
       "1 0  0  3\n",
       "2 1  0  1"
      ]
     },
     "metadata": {},
     "output_type": "display_data"
    },
    {
     "data": {
      "text/html": [
       "<table>\n",
       "<thead><tr><th scope=col>x1</th><th scope=col>x2</th><th scope=col>j_count</th></tr></thead>\n",
       "<tbody>\n",
       "\t<tr><td>0</td><td>0</td><td>4</td></tr>\n",
       "\t<tr><td>0</td><td>1</td><td>1</td></tr>\n",
       "\t<tr><td>1</td><td>0</td><td>1</td></tr>\n",
       "\t<tr><td>1</td><td>1</td><td>4</td></tr>\n",
       "</tbody>\n",
       "</table>\n"
      ],
      "text/latex": [
       "\\begin{tabular}{r|lll}\n",
       " x1 & x2 & j\\_count\\\\\n",
       "\\hline\n",
       "\t 0 & 0 & 4\\\\\n",
       "\t 0 & 1 & 1\\\\\n",
       "\t 1 & 0 & 1\\\\\n",
       "\t 1 & 1 & 4\\\\\n",
       "\\end{tabular}\n"
      ],
      "text/markdown": [
       "\n",
       "| x1 | x2 | j_count |\n",
       "|---|---|---|\n",
       "| 0 | 0 | 4 |\n",
       "| 0 | 1 | 1 |\n",
       "| 1 | 0 | 1 |\n",
       "| 1 | 1 | 4 |\n",
       "\n"
      ],
      "text/plain": [
       "  x1 x2 j_count\n",
       "1 0  0  4      \n",
       "2 0  1  1      \n",
       "3 1  0  1      \n",
       "4 1  1  4      "
      ]
     },
     "metadata": {},
     "output_type": "display_data"
    },
    {
     "data": {
      "text/html": [
       "<table>\n",
       "<thead><tr><th scope=col>x1</th><th scope=col>x2</th><th scope=col>j_count</th><th scope=col>n</th></tr></thead>\n",
       "<tbody>\n",
       "\t<tr><td>0</td><td>0</td><td>4</td><td>3</td></tr>\n",
       "\t<tr><td>1</td><td>0</td><td>1</td><td>1</td></tr>\n",
       "</tbody>\n",
       "</table>\n"
      ],
      "text/latex": [
       "\\begin{tabular}{r|llll}\n",
       " x1 & x2 & j\\_count & n\\\\\n",
       "\\hline\n",
       "\t 0 & 0 & 4 & 3\\\\\n",
       "\t 1 & 0 & 1 & 1\\\\\n",
       "\\end{tabular}\n"
      ],
      "text/markdown": [
       "\n",
       "| x1 | x2 | j_count | n |\n",
       "|---|---|---|---|\n",
       "| 0 | 0 | 4 | 3 |\n",
       "| 1 | 0 | 1 | 1 |\n",
       "\n"
      ],
      "text/plain": [
       "  x1 x2 j_count n\n",
       "1 0  0  4       3\n",
       "2 1  0  1       1"
      ]
     },
     "metadata": {},
     "output_type": "display_data"
    }
   ],
   "source": [
    "#D[D[, 3]==0,pi.i] %>% group_by_all() %>% summarise(name=n())\n",
    "pi.i<-c(1,2)\n",
    "#D[D[, 3]==0, ] %>% count(D[D[, 3]==0,pi.i])\n",
    "i=3\n",
    "ss=0\n",
    "x <- D[D[, i]==ss, ] %>% count(D[D[, i]==ss,pi.i])\n",
    "#merge(D1, k_count, all.x=TRUE)\n",
    "#result[result[, 3]==0, ] %>% count(x1, x2)\n",
    "x\n",
    "a\n",
    "merge(a,x)"
   ]
  },
  {
   "cell_type": "code",
   "execution_count": null,
   "id": "189bd4c2",
   "metadata": {},
   "outputs": [],
   "source": []
  }
 ],
 "metadata": {
  "kernelspec": {
   "display_name": "R",
   "language": "R",
   "name": "ir"
  },
  "language_info": {
   "codemirror_mode": "r",
   "file_extension": ".r",
   "mimetype": "text/x-r-source",
   "name": "R",
   "pygments_lexer": "r",
   "version": "3.6.1"
  }
 },
 "nbformat": 4,
 "nbformat_minor": 5
}
