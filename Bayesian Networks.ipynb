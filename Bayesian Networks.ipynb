{
 "cells": [
  {
   "cell_type": "code",
   "execution_count": 8,
   "id": "7f1a40a4",
   "metadata": {},
   "outputs": [],
   "source": [
    "library(\"dplyr\")"
   ]
  },
  {
   "cell_type": "markdown",
   "id": "4739ff84",
   "metadata": {},
   "source": [
    "## Inputs: \n",
    "\n",
    "1. Set of nodes *Z*\n",
    "2. Ordering of the nodes\n",
    "3. Upper bound on the number of parents (for each node) *u*\n",
    "4. Database *D* of m cases"
   ]
  },
  {
   "cell_type": "code",
   "execution_count": 17,
   "id": "e93071da",
   "metadata": {},
   "outputs": [
    {
     "name": "stdout",
     "output_type": "stream",
     "text": [
      "   x1 x2 x3\n",
      "1   1  0  0\n",
      "2   1  1  1\n",
      "3   0  0  1\n",
      "4   1  1  1\n",
      "5   0  0  0\n",
      "6   0  1  1\n",
      "7   1  1  1\n",
      "8   0  0  0\n",
      "9   1  1  1\n",
      "10  0  0  0\n"
     ]
    }
   ],
   "source": [
    "x1 <- c(1,1,0,1,0,0,1,0,1,0)\n",
    "x2 <- c(0,1,0,1,0,1,1,0,1,0)\n",
    "x3<- c(0,1,1,1,0,1,1,0,1,0)\n",
    "\n",
    "D <- data.frame(x1, x2, x3)\n",
    "\n",
    "print(D)\n"
   ]
  },
  {
   "cell_type": "code",
   "execution_count": 71,
   "id": "f0fb5989",
   "metadata": {},
   "outputs": [],
   "source": [
    "N_tensor <- function(D, i, V.i, pi.i){\n",
    "    result <- D%>% group_by_at(names(D)[pi.i]) %>% mutate(j_counts=n())\n",
    "    \n",
    "        for (k in V.i){\n",
    "            result.k <- D %>% filter(D[,i]==k) %>% group_by_at(names(D)[pi.i]) %>% mutate(k=n())\n",
    "            colnames(result.k)[length(colnames(result.k))]<- k\n",
    "            result<-left_join(result, result.k, by=names(D))\n",
    "        }\n",
    "        result[is.na(result)] <- 0\n",
    "    result<-result %>% group_by_at(names(result)[pi.i]) %>% filter(row_number() == 1)\n",
    "    print(result)\n",
    "    return(result)\n",
    "}\n",
    "\n",
    "g <- function(V.i, r.i, N.tensor){\n",
    "    N.ij <- N.tensor$j_counts\n",
    "    print(N.ij)\n",
    "    q.i <- length(N.ij) # number of unique combinations of the parents realizations\n",
    "    result <- 1\n",
    "    for (j in 1:q.i) {\n",
    "        a <- 1\n",
    "        for (k in V.i){a <- a*factorial(N.tensor[j,as.character(k)])}\n",
    "        result <- result*a*factorial(r.i-1)/factorial(N.ij[j]+r.i-1)\n",
    "    }\n",
    "    return(result)\n",
    "}\n",
    "\n",
    "\n",
    "k2 <- function(Z, u, D){\n",
    "    V <- unname(sapply(D, unique)) #it's a matrix\n",
    "    r <- unname(sapply(D, n_distinct)) #it's a vector\n",
    "    parents <- list()\n",
    "    for (i in 1:length(Z)){\n",
    "        cat('\\n iteration', i)\n",
    "        pi.i <- NULL \n",
    "        Nijk <- N_tensor(D, Z[i], V[,i], pi.i)\n",
    "        P_old <- g(V[,i],r[i], Nijk)\n",
    "        proceed <- TRUE\n",
    "        while (proceed & (length(pi.i)<u & i>1)){\n",
    "            pred.i <- setdiff(Z[1:i-1], pi.i)\n",
    "            P <- NULL\n",
    "            for (node in pred.i){\n",
    "                new_set <- union(pi.i, node)\n",
    "                Nijk <- N_tensor(D, Z[i], V[,i], new_set)\n",
    "                P<- c(P, g(V[,i], r[i], Nijk))\n",
    "            }\n",
    "            P<-unlist(P)\n",
    "            print(paste(\"Pold:\", P_old))\n",
    "            print(paste(\"P:\", P))\n",
    "            if (max(P) > P_old){\n",
    "                max.indx <- which.max(P)\n",
    "                P_old <- P[max.indx]\n",
    "                pi.i <- union(pi.i, pred.i[max.indx])\n",
    "            }\n",
    "            else {proceed = FALSE}\n",
    "        }\n",
    "        append(parents, list(pi.i))\n",
    "    } \n",
    "    return(parents)\n",
    "}\n",
    "\n"
   ]
  },
  {
   "cell_type": "code",
   "execution_count": 72,
   "id": "86818f39",
   "metadata": {},
   "outputs": [
    {
     "name": "stdout",
     "output_type": "stream",
     "text": [
      "\n",
      " iteration 1\u001b[90m# A tibble: 1 × 6\u001b[39m\n",
      "     x1    x2    x3 j_counts   `1`   `0`\n",
      "  \u001b[3m\u001b[90m<dbl>\u001b[39m\u001b[23m \u001b[3m\u001b[90m<dbl>\u001b[39m\u001b[23m \u001b[3m\u001b[90m<dbl>\u001b[39m\u001b[23m    \u001b[3m\u001b[90m<int>\u001b[39m\u001b[23m \u001b[3m\u001b[90m<int>\u001b[39m\u001b[23m \u001b[3m\u001b[90m<int>\u001b[39m\u001b[23m\n",
      "\u001b[90m1\u001b[39m     1     0     0       10     5     0\n",
      "[1] 10\n",
      "\n",
      " iteration 2\u001b[90m# A tibble: 1 × 6\u001b[39m\n",
      "     x1    x2    x3 j_counts   `0`   `1`\n",
      "  \u001b[3m\u001b[90m<dbl>\u001b[39m\u001b[23m \u001b[3m\u001b[90m<dbl>\u001b[39m\u001b[23m \u001b[3m\u001b[90m<dbl>\u001b[39m\u001b[23m    \u001b[3m\u001b[90m<int>\u001b[39m\u001b[23m \u001b[3m\u001b[90m<int>\u001b[39m\u001b[23m \u001b[3m\u001b[90m<int>\u001b[39m\u001b[23m\n",
      "\u001b[90m1\u001b[39m     1     0     0       10     5     0\n",
      "[1] 10\n",
      "\u001b[90m# A tibble: 2 × 6\u001b[39m\n",
      "\u001b[90m# Groups:   x1 [2]\u001b[39m\n",
      "     x1    x2    x3 j_counts   `0`   `1`\n",
      "  \u001b[3m\u001b[90m<dbl>\u001b[39m\u001b[23m \u001b[3m\u001b[90m<dbl>\u001b[39m\u001b[23m \u001b[3m\u001b[90m<dbl>\u001b[39m\u001b[23m    \u001b[3m\u001b[90m<int>\u001b[39m\u001b[23m \u001b[3m\u001b[90m<int>\u001b[39m\u001b[23m \u001b[3m\u001b[90m<int>\u001b[39m\u001b[23m\n",
      "\u001b[90m1\u001b[39m     1     0     0        5     1     0\n",
      "\u001b[90m2\u001b[39m     0     0     1        5     4     0\n",
      "[1] 5 5\n",
      "[1] \"Pold: 3.00625300625301e-06\"\n",
      "[1] \"P: 4.62962962962963e-05\"\n",
      "[1] \"Pold: 4.62962962962963e-05\"\n",
      "[1] \"P: \"\n"
     ]
    },
    {
     "name": "stderr",
     "output_type": "stream",
     "text": [
      "Warning message in max(P):\n",
      "“nessun argomento non-mancante al massimo; si restituisce -Inf”\n"
     ]
    },
    {
     "name": "stdout",
     "output_type": "stream",
     "text": [
      "\n",
      " iteration 3\u001b[90m# A tibble: 1 × 6\u001b[39m\n",
      "     x1    x2    x3 j_counts   `0`   `1`\n",
      "  \u001b[3m\u001b[90m<dbl>\u001b[39m\u001b[23m \u001b[3m\u001b[90m<dbl>\u001b[39m\u001b[23m \u001b[3m\u001b[90m<dbl>\u001b[39m\u001b[23m    \u001b[3m\u001b[90m<int>\u001b[39m\u001b[23m \u001b[3m\u001b[90m<int>\u001b[39m\u001b[23m \u001b[3m\u001b[90m<int>\u001b[39m\u001b[23m\n",
      "\u001b[90m1\u001b[39m     1     0     0       10     4     0\n",
      "[1] 10\n",
      "\u001b[90m# A tibble: 2 × 6\u001b[39m\n",
      "\u001b[90m# Groups:   x1 [2]\u001b[39m\n",
      "     x1    x2    x3 j_counts   `0`   `1`\n",
      "  \u001b[3m\u001b[90m<dbl>\u001b[39m\u001b[23m \u001b[3m\u001b[90m<dbl>\u001b[39m\u001b[23m \u001b[3m\u001b[90m<dbl>\u001b[39m\u001b[23m    \u001b[3m\u001b[90m<int>\u001b[39m\u001b[23m \u001b[3m\u001b[90m<int>\u001b[39m\u001b[23m \u001b[3m\u001b[90m<int>\u001b[39m\u001b[23m\n",
      "\u001b[90m1\u001b[39m     1     0     0        5     1     0\n",
      "\u001b[90m2\u001b[39m     0     0     1        5     0     2\n",
      "[1] 5 5\n",
      "\u001b[90m# A tibble: 2 × 6\u001b[39m\n",
      "\u001b[90m# Groups:   x2 [2]\u001b[39m\n",
      "     x1    x2    x3 j_counts   `0`   `1`\n",
      "  \u001b[3m\u001b[90m<dbl>\u001b[39m\u001b[23m \u001b[3m\u001b[90m<dbl>\u001b[39m\u001b[23m \u001b[3m\u001b[90m<dbl>\u001b[39m\u001b[23m    \u001b[3m\u001b[90m<int>\u001b[39m\u001b[23m \u001b[3m\u001b[90m<int>\u001b[39m\u001b[23m \u001b[3m\u001b[90m<int>\u001b[39m\u001b[23m\n",
      "\u001b[90m1\u001b[39m     1     0     0        5     4     0\n",
      "\u001b[90m2\u001b[39m     1     1     1        5     0     5\n",
      "[1] 5 5\n",
      "[1] \"Pold: 6.01250601250601e-07\"\n",
      "[1] \"P: 3.85802469135802e-06\" \"P: 0.00555555555555556\" \n",
      "\u001b[90m# A tibble: 4 × 6\u001b[39m\n",
      "\u001b[90m# Groups:   x2, x1 [4]\u001b[39m\n",
      "     x1    x2    x3 j_counts   `0`   `1`\n",
      "  \u001b[3m\u001b[90m<dbl>\u001b[39m\u001b[23m \u001b[3m\u001b[90m<dbl>\u001b[39m\u001b[23m \u001b[3m\u001b[90m<dbl>\u001b[39m\u001b[23m    \u001b[3m\u001b[90m<int>\u001b[39m\u001b[23m \u001b[3m\u001b[90m<int>\u001b[39m\u001b[23m \u001b[3m\u001b[90m<int>\u001b[39m\u001b[23m\n",
      "\u001b[90m1\u001b[39m     1     0     0        1     1     0\n",
      "\u001b[90m2\u001b[39m     1     1     1        4     0     4\n",
      "\u001b[90m3\u001b[39m     0     0     1        4     0     1\n",
      "\u001b[90m4\u001b[39m     0     1     1        1     0     1\n",
      "[1] 1 4 4 1\n",
      "[1] \"Pold: 0.00555555555555556\"\n",
      "[1] \"P: 0.000416666666666667\"\n"
     ]
    },
    {
     "data": {
      "text/html": [
       "<ol>\n",
       "</ol>\n"
      ],
      "text/latex": [
       "\\begin{enumerate}\n",
       "\\end{enumerate}\n"
      ],
      "text/markdown": [
       "\n",
       "\n"
      ],
      "text/plain": [
       "list()"
      ]
     },
     "metadata": {},
     "output_type": "display_data"
    }
   ],
   "source": [
    "k2(c(1,2,3), u=3, D)"
   ]
  },
  {
   "cell_type": "code",
   "execution_count": 70,
   "id": "07720fdc",
   "metadata": {},
   "outputs": [],
   "source": [
    "?merge"
   ]
  },
  {
   "cell_type": "code",
   "execution_count": 9,
   "id": "1281019a",
   "metadata": {},
   "outputs": [],
   "source": [
    "?dplyr::mutate"
   ]
  },
  {
   "cell_type": "code",
   "execution_count": 50,
   "id": "60401c39",
   "metadata": {},
   "outputs": [],
   "source": [
    "?dplyr::full_join"
   ]
  },
  {
   "cell_type": "code",
   "execution_count": 62,
   "id": "2718254e",
   "metadata": {},
   "outputs": [
    {
     "data": {
      "text/html": [
       "<style>\n",
       ".list-inline {list-style: none; margin:0; padding: 0}\n",
       ".list-inline>li {display: inline-block}\n",
       ".list-inline>li:not(:last-child)::after {content: \"\\00b7\"; padding: 0 .5ex}\n",
       "</style>\n",
       "<ol class=list-inline><li>'x2'</li><li>'x3'</li></ol>\n"
      ],
      "text/latex": [
       "\\begin{enumerate*}\n",
       "\\item 'x2'\n",
       "\\item 'x3'\n",
       "\\end{enumerate*}\n"
      ],
      "text/markdown": [
       "1. 'x2'\n",
       "2. 'x3'\n",
       "\n",
       "\n"
      ],
      "text/plain": [
       "[1] \"x2\" \"x3\""
      ]
     },
     "metadata": {},
     "output_type": "display_data"
    }
   ],
   "source": [
    "pi.i<-c(2,3)\n",
    "names(D)[pi.i]"
   ]
  },
  {
   "cell_type": "code",
   "execution_count": null,
   "id": "463219fa",
   "metadata": {},
   "outputs": [],
   "source": []
  }
 ],
 "metadata": {
  "kernelspec": {
   "display_name": "R",
   "language": "R",
   "name": "ir"
  },
  "language_info": {
   "codemirror_mode": "r",
   "file_extension": ".r",
   "mimetype": "text/x-r-source",
   "name": "R",
   "pygments_lexer": "r",
   "version": "4.1.2"
  }
 },
 "nbformat": 4,
 "nbformat_minor": 5
}
