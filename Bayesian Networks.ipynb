{
 "cells": [
  {
   "cell_type": "markdown",
   "id": "5747e29f",
   "metadata": {},
   "source": [
    "# Bayesian Networks - K2 algorithm\n"
   ]
  },
  {
   "cell_type": "code",
   "execution_count": 2,
   "id": "7f1a40a4",
   "metadata": {
    "scrolled": false
   },
   "outputs": [],
   "source": [
    "library(\"dplyr\")\n",
    "library(\"igraph\")\n",
    "library(\"bnstruct\")"
   ]
  },
  {
   "cell_type": "markdown",
   "id": "c380e2b8",
   "metadata": {},
   "source": [
    "## Graph representation function\n",
    "\n",
    "In order to visualize the DAGs, we implement a function that receives as input a list of the parents and returns the graph."
   ]
  },
  {
   "cell_type": "code",
   "execution_count": 3,
   "id": "8f83fd8e",
   "metadata": {},
   "outputs": [],
   "source": [
    "plot_BN <- function(papitos, labels=NULL){\n",
    "    \n",
    "    #Create an \"edge list matrix\" ---> https://igraph.org/r/doc/graph_from_edgelist.html\n",
    "    \n",
    "    outgoing <- c()\n",
    "    incoming <- c()\n",
    "    for(i in 1:length(papitos)){\n",
    "        for(j in papitos[[i]]){\n",
    "            outgoing <- c(outgoing, as.character(j))\n",
    "            incoming <- c(incoming, as.character(i))\n",
    "            \n",
    "        }\n",
    "    }\n",
    "    edge_list_matrix <- t(rbind(outgoing, incoming)) #transpose    \n",
    "    \n",
    "    network <- graph_from_edgelist(edge_list_matrix, directed=TRUE)\n",
    "    par(bg=\"beige\")\n",
    "    igraph::plot.igraph(network, \n",
    "                                layout=layout.fruchterman.reingold,\n",
    "                                vertex.color = rgb(0.7,0.1,0.9),\n",
    "                                vertex.label.font=5,\n",
    "                                vertex.label.cex = 1.9,\n",
    "                                vertex.frame.color = \"white\",                 \n",
    "                                vertex.shape=\"square\",                        \n",
    "                                vertex.size=25,                               \n",
    "                                vertex.label.color=\"white\", \n",
    "                                edge.width=3,\n",
    "                                edge.color='black',\n",
    "                                edge.arrow.size=1,\n",
    "                                edge.arrow.width=1,\n",
    "                                edge.curved=0.25)\n",
    "        title(\"Learned Bayesian Network\", cex.main=2,col.main=\"black\")\n",
    "        if (!is.null(labels)){legend(\"bottomright\", labels)}\n",
    "}"
   ]
  },
  {
   "cell_type": "markdown",
   "id": "4739ff84",
   "metadata": {},
   "source": [
    "## K2 Main Algorithm \n",
    "\n",
    "1. Set of nodes *Z*\n",
    "2. Ordering of the nodes\n",
    "3. Upper bound on the number of parents (for each node) *u*\n",
    "4. Database *D* of m cases"
   ]
  },
  {
   "cell_type": "code",
   "execution_count": 4,
   "id": "27ce2113",
   "metadata": {},
   "outputs": [],
   "source": [
    "# Function to compute a matrix with the number of cases in D in which a given attribute is intantiated with its k-th value\n",
    "# and its parents have the j-th instantation.\n",
    "N_tensor <- function(D, i, V.i, pi.i){\n",
    "    result <- D %>% count(D[,pi.i], name='j_counts')\n",
    "    if (length(pi.i) == 1){colnames(result)[1] <- 'j'}\n",
    "        for (k in V.i){\n",
    "            k_count <- D[D[, i]==k,] %>% count(D[D[, i]==k,pi.i])\n",
    "            if (length(pi.i) == 1){colnames(k_count)[1] <- 'j'}\n",
    "            colnames(k_count)[length(colnames(k_count))]<- k\n",
    "            result <- merge(result, k_count, all.x=TRUE) \n",
    "        }\n",
    "        result[is.na(result)] <- 0\n",
    "    return(result)\n",
    "}\n",
    "\n",
    "# Probability function\n",
    "g <- function(V.i, r.i, N.tensor){\n",
    "    N.ij <- N.tensor$j_counts\n",
    "    q.i <- length(N.ij) # number of unique combinations of the parents realizations\n",
    "    result <- 1\n",
    "    for (j in 1:q.i) {\n",
    "        a <- 1\n",
    "        for (k in V.i){a <- a*factorial(N.tensor[j,as.character(k)])}\n",
    "        result <- result*a*factorial(r.i-1)/factorial(N.ij[j]+r.i-1)\n",
    "    }\n",
    "    return(result)\n",
    "}\n",
    "\n",
    "# Main algorithm\n",
    "k2 <- function(Z, u, D){\n",
    "    V <- unname(sapply(D, unique)) #it's a matrix or a list\n",
    "    r <- unname(sapply(D, n_distinct)) #it's a vector\n",
    "    parents <- list()\n",
    "    for (i in 1:length(Z)){\n",
    "        pi.i <- NULL \n",
    "        Nijk <- N_tensor(D, Z[i], V[,i], pi.i)\n",
    "        P_old <- g(V[,i],r[i], Nijk)\n",
    "        proceed <- TRUE\n",
    "        changed <- FALSE\n",
    "        while (proceed & (length(pi.i)<u & i>1)){\n",
    "            pred.i <- setdiff(Z[1:i-1], pi.i)\n",
    "            P <- 0\n",
    "            for (node in pred.i){\n",
    "                new_set <- union(pi.i, node)\n",
    "                Nijk <- N_tensor(D, Z[i], V[,i], new_set)\n",
    "                P <- g(V[,i], r[i], Nijk)\n",
    "                if (P > P_old){\n",
    "                    P_old <- P\n",
    "                    temp.pi <- new_set\n",
    "                    changed <- TRUE\n",
    "                }\n",
    "            }\n",
    "            if (changed != TRUE){\n",
    "                proceed <- FALSE\n",
    "            } else{\n",
    "                pi.i <- temp.pi\n",
    "                changed <- FALSE\n",
    "            }\n",
    "        }\n",
    "        parents <- append(parents, list(pi.i))\n",
    "    } \n",
    "    return(parents)\n",
    "}\n"
   ]
  },
  {
   "cell_type": "markdown",
   "id": "0189076c",
   "metadata": {},
   "source": [
    "## Test on dummy datasets"
   ]
  },
  {
   "cell_type": "markdown",
   "id": "cfd823e1",
   "metadata": {},
   "source": [
    "### 3 nodes"
   ]
  },
  {
   "cell_type": "code",
   "execution_count": 5,
   "id": "e93071da",
   "metadata": {},
   "outputs": [
    {
     "name": "stdout",
     "output_type": "stream",
     "text": [
      "   x1 x2 x3\n",
      "1   1  0  0\n",
      "2   1  1  1\n",
      "3   0  0  1\n",
      "4   1  1  1\n",
      "5   0  0  0\n",
      "6   0  1  1\n",
      "7   1  1  1\n",
      "8   0  0  0\n",
      "9   1  1  1\n",
      "10  0  0  0\n"
     ]
    }
   ],
   "source": [
    "x1 <- c(1,1,0,1,0,0,1,0,1,0)\n",
    "x2 <- c(0,1,0,1,0,1,1,0,1,0)\n",
    "x3<- c(0,1,1,1,0,1,1,0,1,0)\n",
    "\n",
    "toy.3nodes <- data.frame(x1, x2, x3)\n",
    "\n",
    "print(toy.3nodes)"
   ]
  },
  {
   "cell_type": "code",
   "execution_count": 6,
   "id": "9d740cc6",
   "metadata": {},
   "outputs": [
    {
     "data": {
      "image/png": "[encoded data removed]",
      "text/plain": [
       "Plot with title \"Learned Bayesian Network\""
      ]
     },
     "metadata": {},
     "output_type": "display_data"
    }
   ],
   "source": [
    "parents <- k2(c(1,2,3), u=3, toy.3nodes)\n",
    "plot_BN(parents)"
   ]
  },
  {
   "cell_type": "markdown",
   "id": "b98f237b",
   "metadata": {},
   "source": [
    "#### Comparison with Bnstruct"
   ]
  },
  {
   "cell_type": "code",
   "execution_count": 7,
   "id": "b8101355",
   "metadata": {},
   "outputs": [
    {
     "name": "stderr",
     "output_type": "stream",
     "text": [
      "Warning message in BNDataset(data = matrix(c(x1, x2, x3), ncol = 3), discreteness = rep(\"d\", :\n",
      "\"Variable cardinalities guessed from data. Please check for consistency with your actual data. Otherwise, execution may terminate with errors later.\""
     ]
    },
    {
     "data": {
      "text/html": [
       "'S4'"
      ],
      "text/latex": [
       "'S4'"
      ],
      "text/markdown": [
       "'S4'"
      ],
      "text/plain": [
       "[1] \"S4\""
      ]
     },
     "metadata": {},
     "output_type": "display_data"
    }
   ],
   "source": [
    "# Create the BNDatset\n",
    "toy.BN3 <- BNDataset(data = matrix(c(x1, x2, x3), ncol = 3),\n",
    "                    discreteness = rep('d',3),\n",
    "                    variables = c('x1','x2','x3'))\n",
    "typeof(toy.BN3)"
   ]
  },
  {
   "cell_type": "code",
   "execution_count": 8,
   "id": "da943f24",
   "metadata": {},
   "outputs": [
    {
     "name": "stderr",
     "output_type": "stream",
     "text": [
      "bnstruct :: learning the structure using MMHC ...\n"
     ]
    },
    {
     "ename": "ERROR",
     "evalue": "Error in if (dim(data)[1]/prod(sizes[c(x, y, z)]) < min.counts) return(chi.th): valor ausente donde TRUE/FALSE es necesario\n",
     "output_type": "error",
     "traceback": [
      "Error in if (dim(data)[1]/prod(sizes[c(x, y, z)]) < min.counts) return(chi.th): valor ausente donde TRUE/FALSE es necesario\nTraceback:\n",
      "1. learn.network(toy.BN3)",
      "2. learn.network(toy.BN3)",
      "3. .local(x, ...)",
      "4. learn.structure(bn, dataset, algo, scoring.func, initial.network, \n .     alpha, ess, bootstrap, layering, max.fanin, max.fanin.layers, \n .     max.parents, max.parents.layers, layer.struct, cont.nodes, \n .     use.imputed.data, use.cpc, mandatory.edges, ...)",
      "5. learn.structure(bn, dataset, algo, scoring.func, initial.network, \n .     alpha, ess, bootstrap, layering, max.fanin, max.fanin.layers, \n .     max.parents, max.parents.layers, layer.struct, cont.nodes, \n .     use.imputed.data, use.cpc, mandatory.edges, ...)",
      "6. mmpc(data, node.sizes, cont.nodes, alpha, layering, layer.struct, \n .     max.fanin = max.fanin, mandatory.edges = mandatory.edges)",
      "7. mmpc.fwd(data, node.sizes, allowed, i, chi.th, min.counts, max.fanin)",
      "8. g2(data, node.sizes, x, y, chi.th, min.counts = min.counts)"
     ]
    }
   ],
   "source": [
    "# Find the graph\n",
    "learn.network(toy.BN3)"
   ]
  },
  {
   "cell_type": "markdown",
   "id": "a6677d7c",
   "metadata": {},
   "source": [
    "### 15 nodes"
   ]
  },
  {
   "cell_type": "code",
   "execution_count": 9,
   "id": "189bd4c2",
   "metadata": {},
   "outputs": [],
   "source": [
    "m=100\n",
    "L=15\n",
    "data<- sample(0:1,replace=TRUE, size=m*L)\n",
    "dim(data)<-c(m,L)\n",
    "toy.15nodes <- data.frame(data)"
   ]
  },
  {
   "cell_type": "code",
   "execution_count": 10,
   "id": "e2be1fd5",
   "metadata": {},
   "outputs": [
    {
     "data": {
      "image/png": "[encoded data removed]",
      "text/plain": [
       "Plot with title \"Learned Bayesian Network\""
      ]
     },
     "metadata": {},
     "output_type": "display_data"
    }
   ],
   "source": [
    "parents <- k2(1:L, u=10, toy.15nodes)\n",
    "plot_BN(parents)"
   ]
  },
  {
   "cell_type": "markdown",
   "id": "80e56024",
   "metadata": {},
   "source": [
    "#### Comparison with BNStruct"
   ]
  },
  {
   "cell_type": "code",
   "execution_count": 19,
   "id": "25c15e7f",
   "metadata": {},
   "outputs": [
    {
     "name": "stderr",
     "output_type": "stream",
     "text": [
      "Warning message in BNDataset(data = data.matrix(data), discreteness = rep(\"d\", L), :\n",
      "\"Variable cardinalities guessed from data. Please check for consistency with your actual data. Otherwise, execution may terminate with errors later.\""
     ]
    }
   ],
   "source": [
    "toy.BN15 <- BNDataset(data = data.matrix(data),\n",
    "                    discreteness = rep('d',L),\n",
    "                    variables = LETTERS[1:L])"
   ]
  },
  {
   "cell_type": "code",
   "execution_count": 20,
   "id": "1fd9b047",
   "metadata": {},
   "outputs": [
    {
     "name": "stderr",
     "output_type": "stream",
     "text": [
      "... bnstruct :: learning the structure using MMHC ...\n"
     ]
    },
    {
     "ename": "ERROR",
     "evalue": "Error in if (dim(data)[1]/prod(sizes[c(x, y, z)]) < min.counts) return(chi.th): valor ausente donde TRUE/FALSE es necesario\n",
     "output_type": "error",
     "traceback": [
      "Error in if (dim(data)[1]/prod(sizes[c(x, y, z)]) < min.counts) return(chi.th): valor ausente donde TRUE/FALSE es necesario\nTraceback:\n",
      "1. learn.network(toy.BN3)",
      "2. learn.network(toy.BN3)",
      "3. .local(x, ...)",
      "4. learn.structure(bn, dataset, algo, scoring.func, initial.network, \n .     alpha, ess, bootstrap, layering, max.fanin, max.fanin.layers, \n .     max.parents, max.parents.layers, layer.struct, cont.nodes, \n .     use.imputed.data, use.cpc, mandatory.edges, ...)",
      "5. learn.structure(bn, dataset, algo, scoring.func, initial.network, \n .     alpha, ess, bootstrap, layering, max.fanin, max.fanin.layers, \n .     max.parents, max.parents.layers, layer.struct, cont.nodes, \n .     use.imputed.data, use.cpc, mandatory.edges, ...)",
      "6. mmpc(data, node.sizes, cont.nodes, alpha, layering, layer.struct, \n .     max.fanin = max.fanin, mandatory.edges = mandatory.edges)",
      "7. mmpc.fwd(data, node.sizes, allowed, i, chi.th, min.counts, max.fanin)",
      "8. g2(data, node.sizes, x, y, chi.th, min.counts = min.counts)"
     ]
    }
   ],
   "source": [
    "# Find the graph\n",
    "DAG15 <- learn.network(toy.BN3)"
   ]
  },
  {
   "cell_type": "markdown",
   "id": "81b168cd",
   "metadata": {},
   "source": [
    "## K2 Algorithm - log imlementation\n",
    "\n",
    "The algorithm perform several factorial functions, which can be problematic and time and memory consuming when dealing with large datasets. We present a common solution, by taking the logarithm of the factorials and using the Stirling approximation, the problem is solved."
   ]
  },
  {
   "cell_type": "code",
   "execution_count": 21,
   "id": "d371a17b",
   "metadata": {},
   "outputs": [],
   "source": [
    "# Stirling apporx for large numbers\n",
    "log_factorial <- function(N){\n",
    "    if(N > 15){return(N*log(N)-N)}\n",
    "    else if(N==0){return(0)}\n",
    "    else{return(log(factorial(N)))}\n",
    "}\n",
    "\n",
    "# Logarithmic probability function\n",
    "g_log <- function(V.i, r.i, N.tensor){\n",
    "    N.ij <- N.tensor$j_counts\n",
    "    q.i <- length(N.ij) # number of unique combinations of the parents realizations\n",
    "    result <- 0\n",
    "    for (j in 1:q.i) {\n",
    "        a <- 0\n",
    "        for (k in V.i){a <- a+log_factorial(N.tensor[j,as.character(k)])}\n",
    "        result <- result+a+log_factorial(r.i-1)-log_factorial(N.ij[j]+r.i-1)\n",
    "    }\n",
    "    return(result)\n",
    "}\n",
    "\n",
    "# K2 logarithmic algorithm\n",
    "k2_log <- function(Z, u, D){\n",
    "    V <- unname(sapply(D, unique)) #it's a matrix or a list\n",
    "    r <- unname(sapply(D, n_distinct)) #it's a vector\n",
    "    parents <- list()\n",
    "    for (i in 1:length(Z)){\n",
    "        pi.i <- NULL \n",
    "        Nijk <- N_tensor(D, Z[i], V[[i]], pi.i)\n",
    "        P_old <- g_log(V[[i]],r[i], Nijk)\n",
    "        proceed <- TRUE\n",
    "        changed <- FALSE\n",
    "        while (proceed & (length(pi.i)<u & i>1)){\n",
    "            pred.i <- setdiff(Z[1:i-1], pi.i)\n",
    "            P <- 0\n",
    "            for (node in pred.i){\n",
    "                new_set <- union(pi.i, node)\n",
    "                Nijk <- N_tensor(D, Z[i], V[[i]], new_set)\n",
    "                P <- g_log(V[[i]], r[i], Nijk)\n",
    "                if (P > P_old){\n",
    "                    P_old <- P\n",
    "                    temp.pi <- new_set\n",
    "                    changed <- TRUE\n",
    "                }\n",
    "            }\n",
    "            if (changed != TRUE){\n",
    "                proceed <- FALSE\n",
    "            } else{\n",
    "                pi.i <- temp.pi\n",
    "                changed <- FALSE\n",
    "            }\n",
    "        }\n",
    "        parents <- append(parents, list(pi.i))\n",
    "    } \n",
    "    return(parents)\n",
    "}"
   ]
  },
  {
   "cell_type": "markdown",
   "id": "ba93d6e9",
   "metadata": {},
   "source": [
    "## Testing on an actual Dataset"
   ]
  },
  {
   "cell_type": "markdown",
   "id": "e5e10875",
   "metadata": {},
   "source": [
    "##### Breast Cancer Diagnostic\n",
    "\n",
    "   Attribute   Domain\n",
    "   - Clump Thickness               1 - 10\n",
    "   - Uniformity of Cell Size       1 - 10\n",
    "   - Uniformity of Cell Shape      1 - 10\n",
    "   - Marginal Adhesion             1 - 10\n",
    "   - Single Epithelial Cell Size   1 - 10\n",
    "   - Bare Nuclei                   1 - 10\n",
    "   - Bland Chromatin               1 - 10\n",
    "   - Normal Nucleoli               1 - 10\n",
    "   - Mitoses                       1 - 10\n",
    "   - Class:                        (2 for benign, 4 for malignant)"
   ]
  },
  {
   "cell_type": "code",
   "execution_count": 22,
   "id": "56c165f9",
   "metadata": {},
   "outputs": [],
   "source": [
    "bc.labels <- c('1: Clump Thickness','2: Uniformity of Cell Size','3: Uniformity of Cell Shape','4: Marginal Adhesion','5: Single Epithelial Cell Size','6: Bare Nuclei','7: Bland Chromatin','8: Normal Nucleoli','9: Mitoses','10: Class')"
   ]
  },
  {
   "cell_type": "code",
   "execution_count": 23,
   "id": "b8939d4c",
   "metadata": {},
   "outputs": [
    {
     "data": {
      "text/html": [
       "<table>\n",
       "<thead><tr><th scope=col>Clump_Thickness</th><th scope=col>Uniformity_of_Cell_Size</th><th scope=col>Uniformity_of_Cell_Shape</th><th scope=col>Marginal_Adhesion</th><th scope=col>Single_Epithelial_Cell_Size</th><th scope=col>Bare_Nuclei</th><th scope=col>Bland_Chromatin</th><th scope=col>Normal_Nucleoli</th><th scope=col>Mitoses</th><th scope=col>Class</th></tr></thead>\n",
       "<tbody>\n",
       "\t<tr><td>5 </td><td> 1</td><td> 1</td><td>1 </td><td>2 </td><td>2 </td><td>3 </td><td>1 </td><td>1 </td><td>2 </td></tr>\n",
       "\t<tr><td>5 </td><td> 4</td><td> 4</td><td>5 </td><td>7 </td><td>3 </td><td>3 </td><td>2 </td><td>1 </td><td>2 </td></tr>\n",
       "\t<tr><td>3 </td><td> 1</td><td> 1</td><td>1 </td><td>2 </td><td>4 </td><td>3 </td><td>1 </td><td>1 </td><td>2 </td></tr>\n",
       "\t<tr><td>6 </td><td> 8</td><td> 8</td><td>1 </td><td>3 </td><td>6 </td><td>3 </td><td>7 </td><td>1 </td><td>2 </td></tr>\n",
       "\t<tr><td>4 </td><td> 1</td><td> 1</td><td>3 </td><td>2 </td><td>2 </td><td>3 </td><td>1 </td><td>1 </td><td>2 </td></tr>\n",
       "\t<tr><td>8 </td><td>10</td><td>10</td><td>8 </td><td>7 </td><td>3 </td><td>9 </td><td>7 </td><td>1 </td><td>4 </td></tr>\n",
       "</tbody>\n",
       "</table>\n"
      ],
      "text/latex": [
       "\\begin{tabular}{r|llllllllll}\n",
       " Clump\\_Thickness & Uniformity\\_of\\_Cell\\_Size & Uniformity\\_of\\_Cell\\_Shape & Marginal\\_Adhesion & Single\\_Epithelial\\_Cell\\_Size & Bare\\_Nuclei & Bland\\_Chromatin & Normal\\_Nucleoli & Mitoses & Class\\\\\n",
       "\\hline\n",
       "\t 5  &  1 &  1 & 1  & 2  & 2  & 3  & 1  & 1  & 2 \\\\\n",
       "\t 5  &  4 &  4 & 5  & 7  & 3  & 3  & 2  & 1  & 2 \\\\\n",
       "\t 3  &  1 &  1 & 1  & 2  & 4  & 3  & 1  & 1  & 2 \\\\\n",
       "\t 6  &  8 &  8 & 1  & 3  & 6  & 3  & 7  & 1  & 2 \\\\\n",
       "\t 4  &  1 &  1 & 3  & 2  & 2  & 3  & 1  & 1  & 2 \\\\\n",
       "\t 8  & 10 & 10 & 8  & 7  & 3  & 9  & 7  & 1  & 4 \\\\\n",
       "\\end{tabular}\n"
      ],
      "text/markdown": [
       "\n",
       "| Clump_Thickness | Uniformity_of_Cell_Size | Uniformity_of_Cell_Shape | Marginal_Adhesion | Single_Epithelial_Cell_Size | Bare_Nuclei | Bland_Chromatin | Normal_Nucleoli | Mitoses | Class |\n",
       "|---|---|---|---|---|---|---|---|---|---|\n",
       "| 5  |  1 |  1 | 1  | 2  | 2  | 3  | 1  | 1  | 2  |\n",
       "| 5  |  4 |  4 | 5  | 7  | 3  | 3  | 2  | 1  | 2  |\n",
       "| 3  |  1 |  1 | 1  | 2  | 4  | 3  | 1  | 1  | 2  |\n",
       "| 6  |  8 |  8 | 1  | 3  | 6  | 3  | 7  | 1  | 2  |\n",
       "| 4  |  1 |  1 | 3  | 2  | 2  | 3  | 1  | 1  | 2  |\n",
       "| 8  | 10 | 10 | 8  | 7  | 3  | 9  | 7  | 1  | 4  |\n",
       "\n"
      ],
      "text/plain": [
       "  Clump_Thickness Uniformity_of_Cell_Size Uniformity_of_Cell_Shape\n",
       "1 5                1                       1                      \n",
       "2 5                4                       4                      \n",
       "3 3                1                       1                      \n",
       "4 6                8                       8                      \n",
       "5 4                1                       1                      \n",
       "6 8               10                      10                      \n",
       "  Marginal_Adhesion Single_Epithelial_Cell_Size Bare_Nuclei Bland_Chromatin\n",
       "1 1                 2                           2           3              \n",
       "2 5                 7                           3           3              \n",
       "3 1                 2                           4           3              \n",
       "4 1                 3                           6           3              \n",
       "5 3                 2                           2           3              \n",
       "6 8                 7                           3           9              \n",
       "  Normal_Nucleoli Mitoses Class\n",
       "1 1               1       2    \n",
       "2 2               1       2    \n",
       "3 1               1       2    \n",
       "4 7               1       2    \n",
       "5 1               1       2    \n",
       "6 7               1       4    "
      ]
     },
     "metadata": {},
     "output_type": "display_data"
    }
   ],
   "source": [
    "data<-read.csv(\"breast-cancer.txt\")[,-1]\n",
    "breast_cancer_df<-data[data$Bare_Nuclei %in% 1:10, ]\n",
    "breast_cancer_df<-transform(breast_cancer_df, Bare_Nuclei = as.integer(Bare_Nuclei))\n",
    "head(breast_cancer_df)"
   ]
  },
  {
   "cell_type": "code",
   "execution_count": 24,
   "id": "a9ad9999",
   "metadata": {},
   "outputs": [],
   "source": [
    "parents <- k2_log(1:length(breast_cancer_df), u=10, breast_cancer_df)"
   ]
  },
  {
   "cell_type": "code",
   "execution_count": 62,
   "id": "a9cd69a2",
   "metadata": {
    "scrolled": false
   },
   "outputs": [
    {
     "data": {
      "image/png": "[encoded data removed]",
      "text/plain": [
       "Plot with title \"Learned Bayesian Network\""
      ]
     },
     "metadata": {},
     "output_type": "display_data"
    }
   ],
   "source": [
    "plot_BN(parents, bc.labels)"
   ]
  },
  {
   "cell_type": "markdown",
   "id": "74e9df09",
   "metadata": {},
   "source": [
    "### Comparison with BNStruct"
   ]
  },
  {
   "cell_type": "code",
   "execution_count": 26,
   "id": "bbd6857e",
   "metadata": {},
   "outputs": [
    {
     "name": "stderr",
     "output_type": "stream",
     "text": [
      "Warning message in BNDataset(data = data.matrix(breast_cancer_df), discretenes = rep(\"d\", :\n",
      "\"Variable cardinalities guessed from data. Please check for consistency with your actual data. Otherwise, execution may terminate with errors later.\""
     ]
    },
    {
     "data": {
      "text/plain": [
       "\n",
       "Dataset: \n",
       "\n",
       "num.variables 10\n",
       "\n",
       "variables\n",
       "1: Clump Thickness 2: Uniformity of Cell Size 3: Uniformity of Cell Shape 4: Marginal Adhesion 5: Single Epithelial Cell Size 6: Bare Nuclei 7: Bland Chromatin 8: Normal Nucleoli 9: Mitoses 10: Class\n",
       "discreteness\n",
       "TRUE TRUE TRUE TRUE TRUE TRUE TRUE TRUE TRUE TRUE\n",
       "node.sizes\n",
       "0\n",
       "num.items\n",
       "683\n",
       "imputation\n",
       "FALSE\n",
       "has.boots\n",
       "FALSE\n",
       "has.imputed.boots\n",
       "FALSE\n",
       "num.boots\n",
       "0"
      ]
     },
     "metadata": {},
     "output_type": "display_data"
    }
   ],
   "source": [
    "bc.BN <- BNDataset(data = data.matrix(breast_cancer_df),\n",
    "                  discretenes = rep('d', length(bc.labels)),\n",
    "                  variables = bc.labels)\n",
    "bc.BN"
   ]
  },
  {
   "cell_type": "code",
   "execution_count": 27,
   "id": "783d829f",
   "metadata": {},
   "outputs": [
    {
     "name": "stderr",
     "output_type": "stream",
     "text": [
      "... ... bnstruct :: learning the structure using MMHC ...\n"
     ]
    },
    {
     "ename": "ERROR",
     "evalue": "Error in if (dim(data)[1]/prod(sizes[c(x, y, z)]) < min.counts) return(chi.th): valor ausente donde TRUE/FALSE es necesario\n",
     "output_type": "error",
     "traceback": [
      "Error in if (dim(data)[1]/prod(sizes[c(x, y, z)]) < min.counts) return(chi.th): valor ausente donde TRUE/FALSE es necesario\nTraceback:\n",
      "1. learn.network(bc.BN)",
      "2. learn.network(bc.BN)",
      "3. .local(x, ...)",
      "4. learn.structure(bn, dataset, algo, scoring.func, initial.network, \n .     alpha, ess, bootstrap, layering, max.fanin, max.fanin.layers, \n .     max.parents, max.parents.layers, layer.struct, cont.nodes, \n .     use.imputed.data, use.cpc, mandatory.edges, ...)",
      "5. learn.structure(bn, dataset, algo, scoring.func, initial.network, \n .     alpha, ess, bootstrap, layering, max.fanin, max.fanin.layers, \n .     max.parents, max.parents.layers, layer.struct, cont.nodes, \n .     use.imputed.data, use.cpc, mandatory.edges, ...)",
      "6. mmpc(data, node.sizes, cont.nodes, alpha, layering, layer.struct, \n .     max.fanin = max.fanin, mandatory.edges = mandatory.edges)",
      "7. mmpc.fwd(data, node.sizes, allowed, i, chi.th, min.counts, max.fanin)",
      "8. g2(data, node.sizes, x, y, chi.th, min.counts = min.counts)"
     ]
    }
   ],
   "source": [
    "learn.network(bc.BN)"
   ]
  },
  {
   "cell_type": "code",
   "execution_count": null,
   "id": "352e4cb9",
   "metadata": {},
   "outputs": [],
   "source": []
  }
 ],
 "metadata": {
  "kernelspec": {
   "display_name": "R",
   "language": "R",
   "name": "ir"
  },
  "language_info": {
   "codemirror_mode": "r",
   "file_extension": ".r",
   "mimetype": "text/x-r-source",
   "name": "R",
   "pygments_lexer": "r",
   "version": "3.6.1"
  }
 },
 "nbformat": 4,
 "nbformat_minor": 5
}
