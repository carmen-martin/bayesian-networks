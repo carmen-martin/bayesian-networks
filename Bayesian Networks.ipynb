{
 "cells": [
  {
   "cell_type": "code",
   "execution_count": 10,
   "id": "7f1a40a4",
   "metadata": {},
   "outputs": [],
   "source": [
    "library(\"dplyr\")"
   ]
  },
  {
   "cell_type": "markdown",
   "id": "4739ff84",
   "metadata": {},
   "source": [
    "## Inputs: \n",
    "\n",
    "1. Set of nodes *Z*\n",
    "2. Ordering of the nodes\n",
    "3. Upper bound on the number of parents (for each node) *u*\n",
    "4. Database *D* of m cases"
   ]
  },
  {
   "cell_type": "code",
   "execution_count": 301,
   "id": "27ce2113",
   "metadata": {},
   "outputs": [],
   "source": [
    "N_tensor <- function(D, i, V.i, pi.i){\n",
    "    if (length(pi.i) <= 1){\n",
    "        result <- data.frame(j_counts=nrow(D))\n",
    "        for (k in V.i){\n",
    "            k_count <- data.frame(nrow(D[D[,i]==k,]))\n",
    "            names(k_count)<-k \n",
    "            result<-merge(result, k_count, all.x=TRUE)\n",
    "        }\n",
    "    }\n",
    "    else {\n",
    "        result<- D[,pi.i] %>% group_by_all() %>% summarise(j_count= n())\n",
    "        for (k in V.i){\n",
    "            k_count <- D[D[, i]==k,pi.i] %>% group_by_all() %>% summarise(name=n())\n",
    "            colnames(k_count)[length(colnames(k_count))]<- k\n",
    "            result<-merge(result, k_count, all.x=TRUE)\n",
    "        }\n",
    "        result[is.na(result)] <- 0\n",
    "    }\n",
    "    return(result)\n",
    "}\n",
    "\n",
    "g <- function(r.i, N.tensor){\n",
    "    N.ij <- N.tensor$j_counts\n",
    "    q.i <- length(N.ij)\n",
    "    result <- 1\n",
    "    for (j in 1:q.i) {\n",
    "        a <- 1\n",
    "        for (k in 0:(r.i-1)){a <- a*factorial(N.tensor[j,as.character(k)])}\n",
    "        result <- result*a*factorial(r.i-1)/factorial(N.ij[j]+r.i-1)\n",
    "    }\n",
    "     return(result)\n",
    "}\n",
    "\n",
    "\n",
    "k2 <- function(Z, u, D){\n",
    "    V <- unname(sapply(D, unique)) #it's a matrix\n",
    "    r <- unname(sapply(D, n_distinct)) #it's a matrix\n",
    "    parents <- list()\n",
    "    for (i in 1:length(Z)){\n",
    "        pi.i <- NULL \n",
    "        Nijk <- N_tensor(D, Z[i], V[,i], pi.i)\n",
    "        P_old <- g(r[i], Nijk)\n",
    "        proceed <- TRUE\n",
    "        while (proceed & (length(pi.i)<u & i>1)){\n",
    "            pred.i <- setdiff(Z[1:i-1], pi.i)\n",
    "            print(paste('pi', pi.i))\n",
    "            print(paste('pred', pred.i))\n",
    "            P <- NULL\n",
    "            for (node in pred.i){\n",
    "                new_set <- union(pi.i, node)\n",
    "                print(new_set)\n",
    "                Nijk <- N_tensor(D, Z[i], V[,i], new_set)\n",
    "                P<- c(P, g(r[i], Nijk))\n",
    "            }\n",
    "            print(P)\n",
    "            if (max(P) > P_old){\n",
    "                print(\"ok\")\n",
    "                max.indx <- which.max(P)\n",
    "                P_old <- P[max.indx]\n",
    "                pi.i <- union(pi.i, pred.i[max.indx])\n",
    "            }\n",
    "            else {proceed = FALSE}\n",
    "        }\n",
    "        append(parents, list(pi.i))\n",
    "    } \n",
    "    return(parents)\n",
    "}\n"
   ]
  },
  {
   "cell_type": "code",
   "execution_count": 302,
   "id": "e93071da",
   "metadata": {},
   "outputs": [
    {
     "name": "stdout",
     "output_type": "stream",
     "text": [
      "   x1 x2 x3\n",
      "1   1  0  0\n",
      "2   1  1  1\n",
      "3   0  0  1\n",
      "4   1  1  1\n",
      "5   0  0  0\n",
      "6   0  1  1\n",
      "7   1  1  1\n",
      "8   0  0  0\n",
      "9   1  1  1\n",
      "10  0  0  0\n"
     ]
    }
   ],
   "source": [
    "x1 <- c(1,1,0,1,0,0,1,0,1,0)\n",
    "x2 <- c(0,1,0,1,0,1,1,0,1,0)\n",
    "x3<- c(0,1,1,1,0,1,1,0,1,0)\n",
    "\n",
    "D <- data.frame(x1, x2, x3)\n",
    "print(D)\n"
   ]
  },
  {
   "cell_type": "code",
   "execution_count": 303,
   "id": "9d740cc6",
   "metadata": {},
   "outputs": [
    {
     "name": "stdout",
     "output_type": "stream",
     "text": [
      "[1] \"pi \"\n",
      "[1] \"pred 1\"\n",
      "[1] 1\n",
      "[1] 0.0003607504\n",
      "[1] \"pi \"\n",
      "[1] \"pred 1\" \"pred 2\"\n",
      "[1] 1\n",
      "[1] 2\n",
      "[1] 0.0004329004 0.0004329004\n"
     ]
    },
    {
     "data": {
      "text/html": [
       "<ol>\n",
       "</ol>\n"
      ],
      "text/latex": [
       "\\begin{enumerate}\n",
       "\\end{enumerate}\n"
      ],
      "text/markdown": [
       "\n",
       "\n"
      ],
      "text/plain": [
       "list()"
      ]
     },
     "metadata": {},
     "output_type": "display_data"
    }
   ],
   "source": [
    "k2(c(1,2,3), u=3, D)"
   ]
  },
  {
   "cell_type": "code",
   "execution_count": 293,
   "id": "b158cd39",
   "metadata": {},
   "outputs": [
    {
     "data": {
      "text/html": [
       "0.00111111111111111"
      ],
      "text/latex": [
       "0.00111111111111111"
      ],
      "text/markdown": [
       "0.00111111111111111"
      ],
      "text/plain": [
       "[1] 0.001111111"
      ]
     },
     "metadata": {},
     "output_type": "display_data"
    }
   ],
   "source": [
    "1/900"
   ]
  },
  {
   "cell_type": "code",
   "execution_count": 98,
   "id": "2084ab39",
   "metadata": {},
   "outputs": [
    {
     "data": {
      "text/html": [
       "<table>\n",
       "<thead><tr><th scope=col>x1</th><th scope=col>x2</th><th scope=col>j_count</th></tr></thead>\n",
       "<tbody>\n",
       "\t<tr><td>0</td><td>0</td><td>4</td></tr>\n",
       "\t<tr><td>0</td><td>1</td><td>1</td></tr>\n",
       "\t<tr><td>1</td><td>0</td><td>1</td></tr>\n",
       "\t<tr><td>1</td><td>1</td><td>4</td></tr>\n",
       "</tbody>\n",
       "</table>\n"
      ],
      "text/latex": [
       "\\begin{tabular}{r|lll}\n",
       " x1 & x2 & j\\_count\\\\\n",
       "\\hline\n",
       "\t 0 & 0 & 4\\\\\n",
       "\t 0 & 1 & 1\\\\\n",
       "\t 1 & 0 & 1\\\\\n",
       "\t 1 & 1 & 4\\\\\n",
       "\\end{tabular}\n"
      ],
      "text/markdown": [
       "\n",
       "| x1 | x2 | j_count |\n",
       "|---|---|---|\n",
       "| 0 | 0 | 4 |\n",
       "| 0 | 1 | 1 |\n",
       "| 1 | 0 | 1 |\n",
       "| 1 | 1 | 4 |\n",
       "\n"
      ],
      "text/plain": [
       "  x1 x2 j_count\n",
       "1 0  0  4      \n",
       "2 0  1  1      \n",
       "3 1  0  1      \n",
       "4 1  1  4      "
      ]
     },
     "metadata": {},
     "output_type": "display_data"
    }
   ],
   "source": [
    "pi.i <- c(1,2)\n",
    "D[,pi.i] %>% group_by_all() %>% summarise(j_count= n())\n"
   ]
  },
  {
   "cell_type": "code",
   "execution_count": 93,
   "id": "8e508787",
   "metadata": {},
   "outputs": [
    {
     "data": {
      "text/html": [
       "0"
      ],
      "text/latex": [
       "0"
      ],
      "text/markdown": [
       "0"
      ],
      "text/plain": [
       "[1] 0"
      ]
     },
     "metadata": {},
     "output_type": "display_data"
    }
   ],
   "source": [
    "length(NULL)"
   ]
  },
  {
   "cell_type": "code",
   "execution_count": 193,
   "id": "9f5e107f",
   "metadata": {},
   "outputs": [
    {
     "data": {
      "text/html": [
       "<ol class=list-inline>\n",
       "\t<li>0</li>\n",
       "\t<li>1</li>\n",
       "</ol>\n"
      ],
      "text/latex": [
       "\\begin{enumerate*}\n",
       "\\item 0\n",
       "\\item 1\n",
       "\\end{enumerate*}\n"
      ],
      "text/markdown": [
       "1. 0\n",
       "2. 1\n",
       "\n",
       "\n"
      ],
      "text/plain": [
       "[1] 0 1"
      ]
     },
     "metadata": {},
     "output_type": "display_data"
    }
   ],
   "source": [
    "0:1"
   ]
  },
  {
   "cell_type": "code",
   "execution_count": 234,
   "id": "cec6b5c8",
   "metadata": {},
   "outputs": [
    {
     "data": {
      "text/html": [
       "<ol class=list-inline>\n",
       "\t<li>2</li>\n",
       "\t<li>3</li>\n",
       "\t<li>4</li>\n",
       "\t<li>1</li>\n",
       "</ol>\n"
      ],
      "text/latex": [
       "\\begin{enumerate*}\n",
       "\\item 2\n",
       "\\item 3\n",
       "\\item 4\n",
       "\\item 1\n",
       "\\end{enumerate*}\n"
      ],
      "text/markdown": [
       "1. 2\n",
       "2. 3\n",
       "3. 4\n",
       "4. 1\n",
       "\n",
       "\n"
      ],
      "text/plain": [
       "[1] 2 3 4 1"
      ]
     },
     "metadata": {},
     "output_type": "display_data"
    }
   ],
   "source": [
    "x <- c(2,3,4,2,1)\n",
    "unique(x)"
   ]
  }
 ],
 "metadata": {
  "kernelspec": {
   "display_name": "R",
   "language": "R",
   "name": "ir"
  },
  "language_info": {
   "codemirror_mode": "r",
   "file_extension": ".r",
   "mimetype": "text/x-r-source",
   "name": "R",
   "pygments_lexer": "r",
   "version": "3.6.0"
  }
 },
 "nbformat": 4,
 "nbformat_minor": 5
}
